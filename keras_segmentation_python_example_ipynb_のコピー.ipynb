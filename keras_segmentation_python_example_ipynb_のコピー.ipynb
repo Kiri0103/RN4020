{
  "nbformat": 4,
  "nbformat_minor": 0,
  "metadata": {
    "colab": {
      "name": "keras_segmentation_python_example.ipynb のコピー",
      "provenance": [],
      "collapsed_sections": [],
      "include_colab_link": true
    },
    "kernelspec": {
      "name": "python3",
      "display_name": "Python 3"
    },
    "accelerator": "GPU",
    "gpuClass": "standard"
  },
  "cells": [
    {
      "cell_type": "markdown",
      "metadata": {
        "id": "view-in-github",
        "colab_type": "text"
      },
      "source": [
        "<a href=\"https://colab.research.google.com/github/Kiri0103/RN4020/blob/master/keras_segmentation_python_example_ipynb_%E3%81%AE%E3%82%B3%E3%83%94%E3%83%BC.ipynb\" target=\"_parent\"><img src=\"https://colab.research.google.com/assets/colab-badge.svg\" alt=\"Open In Colab\"/></a>"
      ]
    },
    {
      "cell_type": "code",
      "source": [
        "from google.colab import files\n",
        "files.upload()"
      ],
      "metadata": {
        "id": "zX_0DYaXeEqm"
      },
      "execution_count": null,
      "outputs": []
    },
    {
      "cell_type": "code",
      "source": [
        "!mkdir -p ~/.kaggle\n",
        "!mv kaggle.json ~/.kaggle/"
      ],
      "metadata": {
        "id": "9YGm2TS0eEX2"
      },
      "execution_count": null,
      "outputs": []
    },
    {
      "cell_type": "markdown",
      "source": [
        "**Kaggleインストール**"
      ],
      "metadata": {
        "id": "YeLe9xn4e0QQ"
      }
    },
    {
      "cell_type": "code",
      "source": [
        "!pip install kaggle"
      ],
      "metadata": {
        "id": "nKIYtey7el0A"
      },
      "execution_count": null,
      "outputs": []
    },
    {
      "cell_type": "code",
      "source": [
        "!chmod 600 /root/.kaggle/kaggle.json"
      ],
      "metadata": {
        "id": "WloGd-xheyhB"
      },
      "execution_count": null,
      "outputs": []
    },
    {
      "cell_type": "code",
      "source": [
        "!kaggle datasets download -d balraj98/deepglobe-land-cover-classification-dataset && unzip deepglobe-land-cover-classification-dataset.zip"
      ],
      "metadata": {
        "id": "by_dE4g-e5sQ"
      },
      "execution_count": null,
      "outputs": []
    },
    {
      "cell_type": "code",
      "source": [
        "!unzip train.zip"
      ],
      "metadata": {
        "id": "cHJFOlCtfrJH"
      },
      "execution_count": null,
      "outputs": []
    },
    {
      "cell_type": "markdown",
      "source": [
        ""
      ],
      "metadata": {
        "id": "YYxDFp98eyIH"
      }
    },
    {
      "cell_type": "code",
      "source": [
        "!pip install -q keras"
      ],
      "metadata": {
        "id": "-eGu-lo1fAKa"
      },
      "execution_count": null,
      "outputs": []
    },
    {
      "cell_type": "markdown",
      "metadata": {
        "id": "TVVu2lXkcubl"
      },
      "source": [
        "### Install the package"
      ]
    },
    {
      "cell_type": "code",
      "metadata": {
        "id": "-eLWrn8CDjj4"
      },
      "source": [
        "! pip install git+https://github.com/divamgupta/image-segmentation-keras\n"
      ],
      "execution_count": null,
      "outputs": []
    },
    {
      "cell_type": "markdown",
      "metadata": {
        "id": "T-ZXJVRmc3BA"
      },
      "source": [
        "### Download the dataset"
      ]
    },
    {
      "cell_type": "code",
      "metadata": {
        "id": "5M_dfglnD2O4"
      },
      "source": [
        "! wget https://github.com/Kiri0103/RN4020/blob/master/satellite1.zip && unzip satellite1.zip\n",
        "! wget https://github.com/Kiri0103/RN4020/blob/master/satellite2.zip && unzip satellite2.zip\n",
        "! wget https://github.com/Kiri0103/RN4020/blob/master/satellite3.zip && unzip satellite3.zip\n",
        "! wget https://github.com/Kiri0103/RN4020/blob/master/satellite4.zip && unzip satellite4.zip\n",
        "! wget https://github.com/Kiri0103/RN4020/blob/master/satellite5.zip && unzip satellite5.zip\n",
        "! wget https://github.com/Kiri0103/RN4020/blob/master/satellite6.zip && unzip satellite6.zip\n",
        "! wget https://github.com/Kiri0103/RN4020/blob/master/satellite7.zip && unzip satellite7.zip\n",
        "! wget https://github.com/Kiri0103/RN4020/blob/master/satellite8.zip && unzip satellite8.zip\n",
        "! wget https://github.com/Kiri0103/RN4020/blob/master/satellite9.zip && unzip satellite9.zip\n"
      ],
      "execution_count": null,
      "outputs": []
    },
    {
      "cell_type": "code",
      "source": [
        "! unzip satellite1"
      ],
      "metadata": {
        "colab": {
          "base_uri": "https://localhost:8080/"
        },
        "id": "9umDENL7Z0ic",
        "outputId": "7465e731-6ba7-4437-ff10-33de766abcc1"
      },
      "execution_count": 8,
      "outputs": [
        {
          "output_type": "stream",
          "name": "stdout",
          "text": [
            "Archive:  satellite1.zip\n",
            "  End-of-central-directory signature not found.  Either this file is not\n",
            "  a zipfile, or it constitutes one disk of a multi-part archive.  In the\n",
            "  latter case the central directory and zipfile comment will be found on\n",
            "  the last disk(s) of this archive.\n",
            "unzip:  cannot find zipfile directory in one of satellite1 or\n",
            "        satellite1.zip, and cannot find satellite1.ZIP, period.\n"
          ]
        }
      ]
    },
    {
      "cell_type": "code",
      "source": [
        "#! wget kaggle datasets download -d balraj98/deepglobe-land-cover-classification-dataset"
      ],
      "metadata": {
        "id": "URkr8qTgbZXT"
      },
      "execution_count": null,
      "outputs": []
    },
    {
      "cell_type": "markdown",
      "metadata": {
        "id": "JpVgw4szckFI"
      },
      "source": [
        "### Initialize the model"
      ]
    },
    {
      "cell_type": "code",
      "metadata": {
        "id": "-l3Lzy5nDqCw"
      },
      "source": [
        "from keras_segmentation.models.unet import vgg_unet\n",
        "\n",
        "model = vgg_unet(n_classes=50 ,  input_height=300, input_width=300  )\n"
      ],
      "execution_count": null,
      "outputs": []
    },
    {
      "cell_type": "markdown",
      "metadata": {
        "id": "qGd_TDGKcdL7"
      },
      "source": [
        "### Train the model"
      ]
    },
    {
      "cell_type": "code",
      "metadata": {
        "id": "jXKtRFd9EC0K"
      },
      "source": [
        "model.train(\n",
        "    train_images =  \"/content/dataset1/images_prepped_train\",\n",
        "    train_annotations = \"/content/dataset1/annotations_prepped_train\",\n",
        "    checkpoints_path = \"/tmp/vgg_unet_1\" , epochs=5  \n",
        ")"
      ],
      "execution_count": null,
      "outputs": []
    },
    {
      "cell_type": "code",
      "source": [
        "! pip install Pillow"
      ],
      "metadata": {
        "id": "jLhH1klhFXNl"
      },
      "execution_count": null,
      "outputs": []
    },
    {
      "cell_type": "code",
      "source": [
        "from PIL import Image\n",
        "import requests\n",
        "import io\n",
        "\n",
        "#url = 'https://upload.wikimedia.org/wikipedia/commons/b/bf/Sapporo_Golf_Club_Yuni_Course%2C_Yuni_Hokkaido_Aerial_photograph.2015.jpg'\n",
        "#img = Image.open(io.BytesIO(requests.get(url).content))\n",
        "#img\n",
        "! wget https://www.city.soja.okayama.jp/data/open/cnt/3/3614/1/075.jpg"
      ],
      "metadata": {
        "id": "lJybBn-jFryL"
      },
      "execution_count": null,
      "outputs": []
    },
    {
      "cell_type": "code",
      "metadata": {
        "id": "U0muKcNEDy6N"
      },
      "source": [
        "out = model.predict_segmentation(\n",
        "    inp=\"/content/Sapporo_Golf_Club_Yuni_Course,_Yuni_Hokkaido_Aerial_photograph.2015.jpg\",\n",
        "    out_fname=\"/tmp/out.png\"\n",
        ")"
      ],
      "execution_count": null,
      "outputs": []
    },
    {
      "cell_type": "code",
      "metadata": {
        "id": "YL7HNTemD9XX"
      },
      "source": [
        "%matplotlib inline\n",
        "\n",
        "import matplotlib\n",
        "import matplotlib.pyplot as plt"
      ],
      "execution_count": null,
      "outputs": []
    },
    {
      "cell_type": "code",
      "metadata": {
        "id": "3hMQoxD_EAF3"
      },
      "source": [
        "plt.imshow(out)"
      ],
      "execution_count": null,
      "outputs": []
    },
    {
      "cell_type": "code",
      "metadata": {
        "id": "ZzB-w8EdEBLf"
      },
      "source": [
        "from IPython.display import Image\n",
        "Image('/tmp/out.png')"
      ],
      "execution_count": null,
      "outputs": []
    },
    {
      "cell_type": "code",
      "metadata": {
        "id": "u0ERCA6IMb3Y"
      },
      "source": [
        ""
      ],
      "execution_count": null,
      "outputs": []
    },
    {
      "cell_type": "code",
      "metadata": {
        "id": "Jb4E4AqdOX4N"
      },
      "source": [
        "o = model.predict_segmentation(\n",
        "    inp=\"/content/Sapporo_Golf_Club_Yuni_Course,_Yuni_Hokkaido_Aerial_photograph.2015.jpg\",\n",
        "    out_fname=\"/tmp/out.png\" , overlay_img=True, show_legends=True,\n",
        "    class_names = [ \"Sky\",    \"Building\", \"Pole\",\"Road\",\"Pavement\",\"Tree\",\"SignSymbol\", \"Fence\", \"Car\",\"Pedestrian\", \"Bicyclist\"]\n",
        "\n",
        ")"
      ],
      "execution_count": null,
      "outputs": []
    },
    {
      "cell_type": "code",
      "metadata": {
        "id": "p097LwAST1v9"
      },
      "source": [
        "from IPython.display import Image\n",
        "Image('/tmp/out.png')"
      ],
      "execution_count": null,
      "outputs": []
    },
    {
      "cell_type": "code",
      "metadata": {
        "id": "Yxh8bO-dT5Hd"
      },
      "source": [
        ""
      ],
      "execution_count": null,
      "outputs": []
    },
    {
      "cell_type": "code",
      "metadata": {
        "id": "CBZ_sfWkVVVD"
      },
      "source": [
        ""
      ],
      "execution_count": null,
      "outputs": []
    },
    {
      "cell_type": "code",
      "metadata": {
        "id": "CVaaLY83VW1q"
      },
      "source": [
        ""
      ],
      "execution_count": null,
      "outputs": []
    },
    {
      "cell_type": "code",
      "metadata": {
        "id": "RzOdzd1MVhjh"
      },
      "source": [
        ""
      ],
      "execution_count": null,
      "outputs": []
    }
  ]
}